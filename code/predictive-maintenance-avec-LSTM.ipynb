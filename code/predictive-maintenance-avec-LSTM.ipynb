{
 "cells": [
  {
   "cell_type": "markdown",
   "execution_count": null,
   "metadata": {},
   "source": [
    "# Predictive Maintenance - Pump Sensor Data"
   ]
  },
  {
   "cell_type": "markdown",
   "execution_count": null,
   "metadata": {},
   "source": [
    "## load libraies"
   ]
  },
  {
   "cell_type": "code",
   "execution_count": 1,
   "metadata": {},
   "outputs": [],
   "source": [
    "#basic\n",
    "import pandas as pd \n",
    "import numpy as np\n",
    "import matplotlib.pyplot as plt\n",
    "import argparse\n",
    "import os\n",
    "import pickle\n",
    "import time\n",
    "import keras\n",
    "import itertools\n",
    "\n",
    "\n",
    "#encoding \n",
    "from sklearn.preprocessing import OneHotEncoder\n",
    "\n",
    "#normalization\n",
    "from sklearn.preprocessing import MinMaxScaler\n",
    "\n",
    "#PCA \n",
    "from sklearn.decomposition import PCA\n",
    "\n",
    "#Model\n",
    "import tensorflow as tf\n",
    "from tensorflow import keras\n",
    "from keras import Sequential\n",
    "\n",
    "# fit the network\n",
    "from keras.callbacks import ModelCheckpoint\n",
    "from sklearn import preprocessing\n",
    "from sklearn.metrics import confusion_matrix, recall_score, precision_score\n",
    "from sklearn.metrics import fbeta_score\n",
    "from keras.models import Sequential\n",
    "from keras.layers import Dense, Dropout, LSTM, Activation, GRU\n",
    "\n",
    "\n",
    "# Setting seed for reproducability\n",
    "np.random.seed(1234)  \n",
    "PYTHONHASHSEED = 0"
   ]
  },
  {
   "cell_type": "code",
   "execution_count": 2,
   "metadata": {},
   "outputs": [],
   "source": [
    "df = pd.read_csv('../input/pump-sensor-data/sensor.csv', index_col=0)"
   ]
  },
  {
   "cell_type": "markdown",
   "execution_count": null,
   "metadata": {},
   "source": [
    "<p style=\"font-size:20px\"><b>Handling Missing Data </b>:</p>"
   ]
  },
  {
   "cell_type": "code",
   "execution_count": 3,
   "metadata": {},
   "outputs": [
    {
     "data": {
      "text/plain": [
       "0"
      ]
     },
     "execution_count": 3,
     "metadata": {},
     "output_type": "execute_result"
    }
   ],
   "source": [
    "df = pd.read_csv('../input/pump-sensor-data/sensor.csv')\n",
    "df = df.drop(['sensor_15' ], axis = 1)\n",
    "df = df.iloc[1:]\n",
    "df = df.fillna(method='ffill')\n",
    "df.isnull().sum().sum()"
   ]
  },
  {
   "cell_type": "markdown",
   "execution_count": null,
   "metadata": {},
   "source": [
    "<p style=\"font-size:30px\"><b>Data Preprocessing</b>:</p>"
   ]
  },
  {
   "cell_type": "code",
   "execution_count": 4,
   "metadata": {},
   "outputs": [],
   "source": [
    "#smoothly interpolate given data points\n",
    "df.interpolate(method='akima', inplace=True)"
   ]
  },
  {
   "cell_type": "code",
   "execution_count": 5,
   "metadata": {},
   "outputs": [
    {
     "data": {
      "text/html": [
       "<div>\n",
       "<style scoped>\n",
       "    .dataframe tbody tr th:only-of-type {\n",
       "        vertical-align: middle;\n",
       "    }\n",
       "\n",
       "    .dataframe tbody tr th {\n",
       "        vertical-align: top;\n",
       "    }\n",
       "\n",
       "    .dataframe thead th {\n",
       "        text-align: right;\n",
       "    }\n",
       "</style>\n",
       "<table border=\"1\" class=\"dataframe\">\n",
       "  <thead>\n",
       "    <tr style=\"text-align: right;\">\n",
       "      <th></th>\n",
       "      <th>x0_BROKEN</th>\n",
       "      <th>x0_NORMAL</th>\n",
       "      <th>x0_RECOVERING</th>\n",
       "    </tr>\n",
       "  </thead>\n",
       "  <tbody>\n",
       "    <tr>\n",
       "      <th>0</th>\n",
       "      <td>0.0</td>\n",
       "      <td>1.0</td>\n",
       "      <td>0.0</td>\n",
       "    </tr>\n",
       "    <tr>\n",
       "      <th>1</th>\n",
       "      <td>0.0</td>\n",
       "      <td>1.0</td>\n",
       "      <td>0.0</td>\n",
       "    </tr>\n",
       "    <tr>\n",
       "      <th>2</th>\n",
       "      <td>0.0</td>\n",
       "      <td>1.0</td>\n",
       "      <td>0.0</td>\n",
       "    </tr>\n",
       "    <tr>\n",
       "      <th>3</th>\n",
       "      <td>0.0</td>\n",
       "      <td>1.0</td>\n",
       "      <td>0.0</td>\n",
       "    </tr>\n",
       "    <tr>\n",
       "      <th>4</th>\n",
       "      <td>0.0</td>\n",
       "      <td>1.0</td>\n",
       "      <td>0.0</td>\n",
       "    </tr>\n",
       "  </tbody>\n",
       "</table>\n",
       "</div>"
      ],
      "text/plain": [
       "   x0_BROKEN  x0_NORMAL  x0_RECOVERING\n",
       "0        0.0        1.0            0.0\n",
       "1        0.0        1.0            0.0\n",
       "2        0.0        1.0            0.0\n",
       "3        0.0        1.0            0.0\n",
       "4        0.0        1.0            0.0"
      ]
     },
     "execution_count": 5,
     "metadata": {},
     "output_type": "execute_result"
    }
   ],
   "source": [
    "#In turn, machine_status is a categorical feature. Thus it needs to be one hot encoded.\n",
    "one_hot_encoder = OneHotEncoder()\n",
    "one_hot_encoded = one_hot_encoder.fit_transform(df[['machine_status']]).toarray()\n",
    "df_one_hot = pd.DataFrame(one_hot_encoded, columns=one_hot_encoder.get_feature_names().tolist())\n",
    "df_one_hot.head()"
   ]
  },
  {
   "cell_type": "code",
   "execution_count": 6,
   "metadata": {},
   "outputs": [],
   "source": [
    "#replace categorical column with one hot encoded\n",
    "try:\n",
    "    df.drop(['machine_status'], axis=1, inplace=True)\n",
    "except KeyError as e:\n",
    "    print(\"Column does not exist:  \", str(e))\n",
    "    \n",
    "#inner join tables on index\n",
    "\n",
    "#make sure arrays have the same number of rows\n",
    "if df.shape[0] == df_one_hot.shape[0]:\n",
    "    df = pd.concat([df, df_one_hot], axis=1, join='inner')\n",
    "else:\n",
    "    print(\"Different number of rows.\")"
   ]
  },
  {
   "cell_type": "code",
   "execution_count": 7,
   "metadata": {
    "scrolled": true
   },
   "outputs": [
    {
     "data": {
      "text/html": [
       "<div>\n",
       "<style scoped>\n",
       "    .dataframe tbody tr th:only-of-type {\n",
       "        vertical-align: middle;\n",
       "    }\n",
       "\n",
       "    .dataframe tbody tr th {\n",
       "        vertical-align: top;\n",
       "    }\n",
       "\n",
       "    .dataframe thead th {\n",
       "        text-align: right;\n",
       "    }\n",
       "</style>\n",
       "<table border=\"1\" class=\"dataframe\">\n",
       "  <thead>\n",
       "    <tr style=\"text-align: right;\">\n",
       "      <th></th>\n",
       "      <th>Unnamed: 0</th>\n",
       "      <th>timestamp</th>\n",
       "      <th>sensor_00</th>\n",
       "      <th>sensor_01</th>\n",
       "      <th>sensor_02</th>\n",
       "      <th>sensor_03</th>\n",
       "      <th>sensor_04</th>\n",
       "      <th>sensor_05</th>\n",
       "      <th>sensor_06</th>\n",
       "      <th>sensor_07</th>\n",
       "      <th>...</th>\n",
       "      <th>sensor_45</th>\n",
       "      <th>sensor_46</th>\n",
       "      <th>sensor_47</th>\n",
       "      <th>sensor_48</th>\n",
       "      <th>sensor_49</th>\n",
       "      <th>sensor_50</th>\n",
       "      <th>sensor_51</th>\n",
       "      <th>x0_BROKEN</th>\n",
       "      <th>x0_NORMAL</th>\n",
       "      <th>x0_RECOVERING</th>\n",
       "    </tr>\n",
       "  </thead>\n",
       "  <tbody>\n",
       "    <tr>\n",
       "      <th>1</th>\n",
       "      <td>1</td>\n",
       "      <td>2018-04-01 00:01:00</td>\n",
       "      <td>2.465394</td>\n",
       "      <td>47.09201</td>\n",
       "      <td>53.2118</td>\n",
       "      <td>46.310760</td>\n",
       "      <td>634.3750</td>\n",
       "      <td>76.45975</td>\n",
       "      <td>13.41146</td>\n",
       "      <td>16.13136</td>\n",
       "      <td>...</td>\n",
       "      <td>65.68287</td>\n",
       "      <td>50.92593</td>\n",
       "      <td>38.194440</td>\n",
       "      <td>157.9861</td>\n",
       "      <td>67.70834</td>\n",
       "      <td>243.0556</td>\n",
       "      <td>201.3889</td>\n",
       "      <td>0.0</td>\n",
       "      <td>1.0</td>\n",
       "      <td>0.0</td>\n",
       "    </tr>\n",
       "    <tr>\n",
       "      <th>2</th>\n",
       "      <td>2</td>\n",
       "      <td>2018-04-01 00:02:00</td>\n",
       "      <td>2.444734</td>\n",
       "      <td>47.35243</td>\n",
       "      <td>53.2118</td>\n",
       "      <td>46.397570</td>\n",
       "      <td>638.8889</td>\n",
       "      <td>73.54598</td>\n",
       "      <td>13.32465</td>\n",
       "      <td>16.03733</td>\n",
       "      <td>...</td>\n",
       "      <td>65.39352</td>\n",
       "      <td>51.21528</td>\n",
       "      <td>38.194443</td>\n",
       "      <td>155.9606</td>\n",
       "      <td>67.12963</td>\n",
       "      <td>241.3194</td>\n",
       "      <td>203.7037</td>\n",
       "      <td>0.0</td>\n",
       "      <td>1.0</td>\n",
       "      <td>0.0</td>\n",
       "    </tr>\n",
       "    <tr>\n",
       "      <th>3</th>\n",
       "      <td>3</td>\n",
       "      <td>2018-04-01 00:03:00</td>\n",
       "      <td>2.460474</td>\n",
       "      <td>47.09201</td>\n",
       "      <td>53.1684</td>\n",
       "      <td>46.397568</td>\n",
       "      <td>628.1250</td>\n",
       "      <td>76.98898</td>\n",
       "      <td>13.31742</td>\n",
       "      <td>16.24711</td>\n",
       "      <td>...</td>\n",
       "      <td>64.81481</td>\n",
       "      <td>51.21528</td>\n",
       "      <td>38.194440</td>\n",
       "      <td>155.9606</td>\n",
       "      <td>66.84028</td>\n",
       "      <td>240.4514</td>\n",
       "      <td>203.1250</td>\n",
       "      <td>0.0</td>\n",
       "      <td>1.0</td>\n",
       "      <td>0.0</td>\n",
       "    </tr>\n",
       "    <tr>\n",
       "      <th>4</th>\n",
       "      <td>4</td>\n",
       "      <td>2018-04-01 00:04:00</td>\n",
       "      <td>2.445718</td>\n",
       "      <td>47.13541</td>\n",
       "      <td>53.2118</td>\n",
       "      <td>46.397568</td>\n",
       "      <td>636.4583</td>\n",
       "      <td>76.58897</td>\n",
       "      <td>13.35359</td>\n",
       "      <td>16.21094</td>\n",
       "      <td>...</td>\n",
       "      <td>65.10416</td>\n",
       "      <td>51.79398</td>\n",
       "      <td>38.773150</td>\n",
       "      <td>158.2755</td>\n",
       "      <td>66.55093</td>\n",
       "      <td>242.1875</td>\n",
       "      <td>201.3889</td>\n",
       "      <td>0.0</td>\n",
       "      <td>1.0</td>\n",
       "      <td>0.0</td>\n",
       "    </tr>\n",
       "    <tr>\n",
       "      <th>5</th>\n",
       "      <td>5</td>\n",
       "      <td>2018-04-01 00:05:00</td>\n",
       "      <td>2.453588</td>\n",
       "      <td>47.09201</td>\n",
       "      <td>53.1684</td>\n",
       "      <td>46.397568</td>\n",
       "      <td>637.6157</td>\n",
       "      <td>78.18568</td>\n",
       "      <td>13.41146</td>\n",
       "      <td>16.16753</td>\n",
       "      <td>...</td>\n",
       "      <td>63.65741</td>\n",
       "      <td>51.79398</td>\n",
       "      <td>38.773150</td>\n",
       "      <td>164.6412</td>\n",
       "      <td>66.55093</td>\n",
       "      <td>241.6088</td>\n",
       "      <td>201.6782</td>\n",
       "      <td>0.0</td>\n",
       "      <td>1.0</td>\n",
       "      <td>0.0</td>\n",
       "    </tr>\n",
       "  </tbody>\n",
       "</table>\n",
       "<p>5 rows × 56 columns</p>\n",
       "</div>"
      ],
      "text/plain": [
       "   Unnamed: 0            timestamp  sensor_00  sensor_01  sensor_02  \\\n",
       "1           1  2018-04-01 00:01:00   2.465394   47.09201    53.2118   \n",
       "2           2  2018-04-01 00:02:00   2.444734   47.35243    53.2118   \n",
       "3           3  2018-04-01 00:03:00   2.460474   47.09201    53.1684   \n",
       "4           4  2018-04-01 00:04:00   2.445718   47.13541    53.2118   \n",
       "5           5  2018-04-01 00:05:00   2.453588   47.09201    53.1684   \n",
       "\n",
       "   sensor_03  sensor_04  sensor_05  sensor_06  sensor_07  ...  sensor_45  \\\n",
       "1  46.310760   634.3750   76.45975   13.41146   16.13136  ...   65.68287   \n",
       "2  46.397570   638.8889   73.54598   13.32465   16.03733  ...   65.39352   \n",
       "3  46.397568   628.1250   76.98898   13.31742   16.24711  ...   64.81481   \n",
       "4  46.397568   636.4583   76.58897   13.35359   16.21094  ...   65.10416   \n",
       "5  46.397568   637.6157   78.18568   13.41146   16.16753  ...   63.65741   \n",
       "\n",
       "   sensor_46  sensor_47  sensor_48  sensor_49  sensor_50  sensor_51  \\\n",
       "1   50.92593  38.194440   157.9861   67.70834   243.0556   201.3889   \n",
       "2   51.21528  38.194443   155.9606   67.12963   241.3194   203.7037   \n",
       "3   51.21528  38.194440   155.9606   66.84028   240.4514   203.1250   \n",
       "4   51.79398  38.773150   158.2755   66.55093   242.1875   201.3889   \n",
       "5   51.79398  38.773150   164.6412   66.55093   241.6088   201.6782   \n",
       "\n",
       "   x0_BROKEN  x0_NORMAL  x0_RECOVERING  \n",
       "1        0.0        1.0            0.0  \n",
       "2        0.0        1.0            0.0  \n",
       "3        0.0        1.0            0.0  \n",
       "4        0.0        1.0            0.0  \n",
       "5        0.0        1.0            0.0  \n",
       "\n",
       "[5 rows x 56 columns]"
      ]
     },
     "execution_count": 7,
     "metadata": {},
     "output_type": "execute_result"
    }
   ],
   "source": [
    "df.head()"
   ]
  },
  {
   "cell_type": "markdown",
   "execution_count": null,
   "metadata": {},
   "source": [
    "<p style=\"font-size:40px\"><b>PCA</b>:</p>"
   ]
  },
  {
   "cell_type": "code",
   "execution_count": 8,
   "metadata": {},
   "outputs": [],
   "source": [
    "#Using PCA.explained_variance_ratio_ to understand what percentage of variance is explained by the data\n",
    "def apply_PCA(n_components):\n",
    "    model = PCA(n_components)\n",
    "    model.fit_transform(df[df.columns.difference(['timestamp', 'x0_BROKEN', 'x0_NORMAL', 'x0_RECOVERING'])])\n",
    "    \n",
    "    var_ratio = model.explained_variance_ratio_\n",
    "    var_cumu = model.explained_variance_ratio_.cumsum()\n",
    "    print('Explained variance ratio: \\n', var_ratio)\n",
    "    print('Cumulative variance: \\n', var_cumu)\n",
    "    \n",
    "    X = np.arange(1, n_components+1)\n",
    "    plt.vlines(x=7, ymax=1.2, ymin=0, colors=\"m\", linestyles=\"--\")\n",
    "    plt.hlines(y=0.95, xmax=20, xmin=0, colors=\"g\", linestyles=\"--\")\n",
    "\n",
    "    plt.scatter(x=X, y=var_ratio, marker='v', c='b')\n",
    "    plt.scatter(x=X, y=var_cumu, marker = 'o', c='r')\n",
    "    plt.xlabel('Number of components')\n",
    "    plt.ylabel('Explained variance ratio')\n",
    "    \n",
    "    return model"
   ]
  },
  {
   "cell_type": "code",
   "execution_count": 9,
   "metadata": {},
   "outputs": [
    {
     "name": "stdout",
     "output_type": "stream",
     "text": [
      "Explained variance ratio: \n",
      " [9.99770562e-01 1.56463106e-04 2.20527535e-05 1.03277105e-05\n",
      " 8.35145279e-06 7.15158690e-06 4.82518316e-06 4.32323158e-06\n",
      " 3.89396693e-06 2.80128238e-06 2.22591830e-06 1.64426943e-06\n",
      " 1.25333070e-06 9.38092740e-07 6.55420765e-07 5.67567865e-07\n",
      " 4.34304070e-07 2.64407615e-07 1.99086846e-07 1.83701175e-07]\n",
      "Cumulative variance: \n",
      " [0.99977056 0.99992703 0.99994908 0.99995941 0.99996776 0.99997491\n",
      " 0.99997973 0.99998406 0.99998795 0.99999075 0.99999298 0.99999462\n",
      " 0.99999588 0.99999681 0.99999747 0.99999804 0.99999847 0.99999874\n",
      " 0.99999894 0.99999912]\n"
     ]
    },
    {
     "data": {
      "image/png": "[encoded data removed]",
      "text/plain": [
       "<Figure size 432x288 with 1 Axes>"
      ]
     },
     "metadata": {
      "needs_background": "light"
     },
     "output_type": "display_data"
    }
   ],
   "source": [
    "# Viewing the PCA components \n",
    "pca_model = apply_PCA(20)"
   ]
  },
  {
   "cell_type": "markdown",
   "execution_count": null,
   "metadata": {},
   "source": [
    "<p style=\"font-size:30px\"><b>Data Transformation</b>:</p>\n"
   ]
  },
  {
   "cell_type": "code",
   "execution_count": 10,
   "metadata": {},
   "outputs": [],
   "source": [
    "#Standardize data within every machine status .\n",
    "def grouper(table, column_name):\n",
    "    table_1 = table[column_name]\n",
    "    grouper = (table_1 != table_1.shift()).cumsum()\n",
    "    return grouper"
   ]
  },
  {
   "cell_type": "code",
   "execution_count": 11,
   "metadata": {},
   "outputs": [],
   "source": [
    "df['normal_time'] = df.groupby(grouper(df, 'x0_NORMAL'))['x0_NORMAL'].cumsum()\n",
    "df['broken_time'] = df.groupby(grouper(df, 'x0_BROKEN'))['x0_BROKEN'].cumsum()\n",
    "df['recovering_time'] = df.groupby(grouper(df, 'x0_RECOVERING'))['x0_RECOVERING'].cumsum()"
   ]
  },
  {
   "cell_type": "code",
   "execution_count": 12,
   "metadata": {},
   "outputs": [
    {
     "name": "stdout",
     "output_type": "stream",
     "text": [
      "Data covers: 152 days.\n"
     ]
    }
   ],
   "source": [
    "difference = df['broken_time'].diff()\n",
    "difference.loc[difference==1]\n",
    "print('Data covers: ' + str(int(len(df)/60/24)) + ' days.')"
   ]
  },
  {
   "cell_type": "code",
   "execution_count": 13,
   "metadata": {},
   "outputs": [],
   "source": [
    "#Lets try to classify, whether pump will break in the next day.\n",
    "def add_broken_alert(df, n):\n",
    "    \"\"\"Add alert to the dataset to indicate that failure will be in [n] days\"\"\"\n",
    "    num_of_periods = n*24*60\n",
    "    col_name = 'fail_in_' + str(n) + '_days'\n",
    "    broken_index = df.loc[df['x0_BROKEN']==1].index\n",
    "    df[col_name] = df['x0_BROKEN']\n",
    "    for i in broken_index:\n",
    "        df.loc[(int(i)-200): i, col_name] = 1\n",
    "    return df"
   ]
  },
  {
   "cell_type": "code",
   "execution_count": 14,
   "metadata": {},
   "outputs": [
    {
     "data": {
      "text/html": [
       "<div>\n",
       "<style scoped>\n",
       "    .dataframe tbody tr th:only-of-type {\n",
       "        vertical-align: middle;\n",
       "    }\n",
       "\n",
       "    .dataframe tbody tr th {\n",
       "        vertical-align: top;\n",
       "    }\n",
       "\n",
       "    .dataframe thead th {\n",
       "        text-align: right;\n",
       "    }\n",
       "</style>\n",
       "<table border=\"1\" class=\"dataframe\">\n",
       "  <thead>\n",
       "    <tr style=\"text-align: right;\">\n",
       "      <th></th>\n",
       "      <th>Unnamed: 0</th>\n",
       "      <th>timestamp</th>\n",
       "      <th>sensor_00</th>\n",
       "      <th>sensor_01</th>\n",
       "      <th>sensor_02</th>\n",
       "      <th>sensor_03</th>\n",
       "      <th>sensor_04</th>\n",
       "      <th>sensor_05</th>\n",
       "      <th>sensor_06</th>\n",
       "      <th>sensor_07</th>\n",
       "      <th>...</th>\n",
       "      <th>sensor_50</th>\n",
       "      <th>sensor_51</th>\n",
       "      <th>x0_BROKEN</th>\n",
       "      <th>x0_NORMAL</th>\n",
       "      <th>x0_RECOVERING</th>\n",
       "      <th>normal_time</th>\n",
       "      <th>broken_time</th>\n",
       "      <th>recovering_time</th>\n",
       "      <th>fail_in_1_days</th>\n",
       "      <th>fail_in_3_days</th>\n",
       "    </tr>\n",
       "  </thead>\n",
       "  <tbody>\n",
       "    <tr>\n",
       "      <th>1</th>\n",
       "      <td>1</td>\n",
       "      <td>2018-04-01 00:01:00</td>\n",
       "      <td>2.465394</td>\n",
       "      <td>47.09201</td>\n",
       "      <td>53.2118</td>\n",
       "      <td>46.310760</td>\n",
       "      <td>634.3750</td>\n",
       "      <td>76.45975</td>\n",
       "      <td>13.41146</td>\n",
       "      <td>16.13136</td>\n",
       "      <td>...</td>\n",
       "      <td>243.0556</td>\n",
       "      <td>201.3889</td>\n",
       "      <td>0.0</td>\n",
       "      <td>1.0</td>\n",
       "      <td>0.0</td>\n",
       "      <td>1.0</td>\n",
       "      <td>0.0</td>\n",
       "      <td>0.0</td>\n",
       "      <td>0.0</td>\n",
       "      <td>0.0</td>\n",
       "    </tr>\n",
       "    <tr>\n",
       "      <th>2</th>\n",
       "      <td>2</td>\n",
       "      <td>2018-04-01 00:02:00</td>\n",
       "      <td>2.444734</td>\n",
       "      <td>47.35243</td>\n",
       "      <td>53.2118</td>\n",
       "      <td>46.397570</td>\n",
       "      <td>638.8889</td>\n",
       "      <td>73.54598</td>\n",
       "      <td>13.32465</td>\n",
       "      <td>16.03733</td>\n",
       "      <td>...</td>\n",
       "      <td>241.3194</td>\n",
       "      <td>203.7037</td>\n",
       "      <td>0.0</td>\n",
       "      <td>1.0</td>\n",
       "      <td>0.0</td>\n",
       "      <td>2.0</td>\n",
       "      <td>0.0</td>\n",
       "      <td>0.0</td>\n",
       "      <td>0.0</td>\n",
       "      <td>0.0</td>\n",
       "    </tr>\n",
       "    <tr>\n",
       "      <th>3</th>\n",
       "      <td>3</td>\n",
       "      <td>2018-04-01 00:03:00</td>\n",
       "      <td>2.460474</td>\n",
       "      <td>47.09201</td>\n",
       "      <td>53.1684</td>\n",
       "      <td>46.397568</td>\n",
       "      <td>628.1250</td>\n",
       "      <td>76.98898</td>\n",
       "      <td>13.31742</td>\n",
       "      <td>16.24711</td>\n",
       "      <td>...</td>\n",
       "      <td>240.4514</td>\n",
       "      <td>203.1250</td>\n",
       "      <td>0.0</td>\n",
       "      <td>1.0</td>\n",
       "      <td>0.0</td>\n",
       "      <td>3.0</td>\n",
       "      <td>0.0</td>\n",
       "      <td>0.0</td>\n",
       "      <td>0.0</td>\n",
       "      <td>0.0</td>\n",
       "    </tr>\n",
       "    <tr>\n",
       "      <th>4</th>\n",
       "      <td>4</td>\n",
       "      <td>2018-04-01 00:04:00</td>\n",
       "      <td>2.445718</td>\n",
       "      <td>47.13541</td>\n",
       "      <td>53.2118</td>\n",
       "      <td>46.397568</td>\n",
       "      <td>636.4583</td>\n",
       "      <td>76.58897</td>\n",
       "      <td>13.35359</td>\n",
       "      <td>16.21094</td>\n",
       "      <td>...</td>\n",
       "      <td>242.1875</td>\n",
       "      <td>201.3889</td>\n",
       "      <td>0.0</td>\n",
       "      <td>1.0</td>\n",
       "      <td>0.0</td>\n",
       "      <td>4.0</td>\n",
       "      <td>0.0</td>\n",
       "      <td>0.0</td>\n",
       "      <td>0.0</td>\n",
       "      <td>0.0</td>\n",
       "    </tr>\n",
       "    <tr>\n",
       "      <th>5</th>\n",
       "      <td>5</td>\n",
       "      <td>2018-04-01 00:05:00</td>\n",
       "      <td>2.453588</td>\n",
       "      <td>47.09201</td>\n",
       "      <td>53.1684</td>\n",
       "      <td>46.397568</td>\n",
       "      <td>637.6157</td>\n",
       "      <td>78.18568</td>\n",
       "      <td>13.41146</td>\n",
       "      <td>16.16753</td>\n",
       "      <td>...</td>\n",
       "      <td>241.6088</td>\n",
       "      <td>201.6782</td>\n",
       "      <td>0.0</td>\n",
       "      <td>1.0</td>\n",
       "      <td>0.0</td>\n",
       "      <td>5.0</td>\n",
       "      <td>0.0</td>\n",
       "      <td>0.0</td>\n",
       "      <td>0.0</td>\n",
       "      <td>0.0</td>\n",
       "    </tr>\n",
       "  </tbody>\n",
       "</table>\n",
       "<p>5 rows × 61 columns</p>\n",
       "</div>"
      ],
      "text/plain": [
       "   Unnamed: 0            timestamp  sensor_00  sensor_01  sensor_02  \\\n",
       "1           1  2018-04-01 00:01:00   2.465394   47.09201    53.2118   \n",
       "2           2  2018-04-01 00:02:00   2.444734   47.35243    53.2118   \n",
       "3           3  2018-04-01 00:03:00   2.460474   47.09201    53.1684   \n",
       "4           4  2018-04-01 00:04:00   2.445718   47.13541    53.2118   \n",
       "5           5  2018-04-01 00:05:00   2.453588   47.09201    53.1684   \n",
       "\n",
       "   sensor_03  sensor_04  sensor_05  sensor_06  sensor_07  ...  sensor_50  \\\n",
       "1  46.310760   634.3750   76.45975   13.41146   16.13136  ...   243.0556   \n",
       "2  46.397570   638.8889   73.54598   13.32465   16.03733  ...   241.3194   \n",
       "3  46.397568   628.1250   76.98898   13.31742   16.24711  ...   240.4514   \n",
       "4  46.397568   636.4583   76.58897   13.35359   16.21094  ...   242.1875   \n",
       "5  46.397568   637.6157   78.18568   13.41146   16.16753  ...   241.6088   \n",
       "\n",
       "   sensor_51  x0_BROKEN  x0_NORMAL  x0_RECOVERING  normal_time  broken_time  \\\n",
       "1   201.3889        0.0        1.0            0.0          1.0          0.0   \n",
       "2   203.7037        0.0        1.0            0.0          2.0          0.0   \n",
       "3   203.1250        0.0        1.0            0.0          3.0          0.0   \n",
       "4   201.3889        0.0        1.0            0.0          4.0          0.0   \n",
       "5   201.6782        0.0        1.0            0.0          5.0          0.0   \n",
       "\n",
       "   recovering_time  fail_in_1_days  fail_in_3_days  \n",
       "1              0.0             0.0             0.0  \n",
       "2              0.0             0.0             0.0  \n",
       "3              0.0             0.0             0.0  \n",
       "4              0.0             0.0             0.0  \n",
       "5              0.0             0.0             0.0  \n",
       "\n",
       "[5 rows x 61 columns]"
      ]
     },
     "execution_count": 14,
     "metadata": {},
     "output_type": "execute_result"
    }
   ],
   "source": [
    "df = add_broken_alert(df, 1)\n",
    "df = add_broken_alert(df, 3)\n",
    "df.head()"
   ]
  },
  {
   "cell_type": "markdown",
   "execution_count": null,
   "metadata": {},
   "source": [
    "<p style=\"font-size:30px\"><b>Train/Test</b>:</p>"
   ]
  },
  {
   "cell_type": "code",
   "execution_count": 15,
   "metadata": {},
   "outputs": [],
   "source": [
    "#drop some unnecessary columns\n",
    "try:\n",
    "    df.drop(['timestamp'], axis=1, inplace=True)\n",
    "except KeyError as e:\n",
    "    print(\"Column does not exist:  \", str(e))"
   ]
  },
  {
   "cell_type": "code",
   "execution_count": 16,
   "metadata": {},
   "outputs": [],
   "source": [
    "#Data ingestion\n",
    "df_train = df.copy()\n",
    "df_validation = df.copy()\n",
    "df_test = df.copy()\n",
    "#We divide data into three sets: train(55%), validation(25%) and test(20%)\n",
    "df_train = df_train[df_train.index <= round(len(df)*0.75)]\n",
    "df_validation = df_validation[(df_validation.index > round(len(df)*0.55)) & (df_validation.index <= round(len(df)*0.8))]\n",
    "df_test = df_test[df_test.index > round(len(df)*0.8)]"
   ]
  },
  {
   "cell_type": "code",
   "execution_count": 17,
   "metadata": {},
   "outputs": [
    {
     "name": "stdout",
     "output_type": "stream",
     "text": [
      "Size of: \n",
      " train set: 165238 \n",
      " validation set: 55079 \n",
      " test set 44064\n"
     ]
    }
   ],
   "source": [
    "print('Size of: \\n train set: {} \\n validation set: {} \\n test set {}'.format(len(df_train), len(df_validation), len(df_test)))"
   ]
  },
  {
   "cell_type": "markdown",
   "execution_count": null,
   "metadata": {},
   "source": [
    "<p style=\"font-size:30px\"><b>Normalise the Datasets with MinMaxScaler</b>:</p>"
   ]
  },
  {
   "cell_type": "code",
   "execution_count": 18,
   "metadata": {},
   "outputs": [],
   "source": [
    "min_max = MinMaxScaler()\n",
    "norm_cols = df.columns.tolist()"
   ]
  },
  {
   "cell_type": "code",
   "execution_count": 19,
   "metadata": {},
   "outputs": [],
   "source": [
    "# MinMax normalization\n",
    "df_train_norm = pd.DataFrame(min_max.fit_transform(df_train), columns=norm_cols, index=df_train.index)\n",
    "df_validation_norm = pd.DataFrame(min_max.fit_transform(df_validation), columns=norm_cols, index=df_validation.index)\n",
    "df_test_norm = pd.DataFrame(min_max.fit_transform(df_test), columns=norm_cols, index=df_test.index)"
   ]
  },
  {
   "cell_type": "markdown",
   "execution_count": null,
   "metadata": {},
   "source": [
    "Determining the features of interest, since feature engineering is specific to the problem scenario and the available data"
   ]
  },
  {
   "cell_type": "code",
   "execution_count": 20,
   "metadata": {},
   "outputs": [],
   "source": [
    "# Let's take for a sequence length 60 periods. It sums up to 1 hour.\n",
    "seq_len = 60\n",
    "sensor_cols=[column for column in df.columns if not column.find('sensor')] # pick the feature columns "
   ]
  },
  {
   "cell_type": "code",
   "execution_count": 21,
   "metadata": {},
   "outputs": [
    {
     "data": {
      "text/plain": [
       "['sensor_00',\n",
       " 'sensor_01',\n",
       " 'sensor_02',\n",
       " 'sensor_03',\n",
       " 'sensor_04',\n",
       " 'sensor_05',\n",
       " 'sensor_06',\n",
       " 'sensor_07',\n",
       " 'sensor_08',\n",
       " 'sensor_09',\n",
       " 'sensor_10',\n",
       " 'sensor_11',\n",
       " 'sensor_12',\n",
       " 'sensor_13',\n",
       " 'sensor_14',\n",
       " 'sensor_16',\n",
       " 'sensor_17',\n",
       " 'sensor_18',\n",
       " 'sensor_19',\n",
       " 'sensor_20',\n",
       " 'sensor_21',\n",
       " 'sensor_22',\n",
       " 'sensor_23',\n",
       " 'sensor_24',\n",
       " 'sensor_25',\n",
       " 'sensor_26',\n",
       " 'sensor_27',\n",
       " 'sensor_28',\n",
       " 'sensor_29',\n",
       " 'sensor_30',\n",
       " 'sensor_31',\n",
       " 'sensor_32',\n",
       " 'sensor_33',\n",
       " 'sensor_34',\n",
       " 'sensor_35',\n",
       " 'sensor_36',\n",
       " 'sensor_37',\n",
       " 'sensor_38',\n",
       " 'sensor_39',\n",
       " 'sensor_40',\n",
       " 'sensor_41',\n",
       " 'sensor_42',\n",
       " 'sensor_43',\n",
       " 'sensor_44',\n",
       " 'sensor_45',\n",
       " 'sensor_46',\n",
       " 'sensor_47',\n",
       " 'sensor_48',\n",
       " 'sensor_49',\n",
       " 'sensor_50',\n",
       " 'sensor_51']"
      ]
     },
     "execution_count": 21,
     "metadata": {},
     "output_type": "execute_result"
    }
   ],
   "source": [
    "df_train_norm_data = df_train_norm.drop(['fail_in_1_days', 'fail_in_3_days'], axis=1)\n",
    "df_train_norm_label = df_train_norm['fail_in_1_days']\n",
    "sensor_cols"
   ]
  },
  {
   "cell_type": "markdown",
   "execution_count": null,
   "metadata": {},
   "source": [
    "<p style=\"font-size:15px\"><b> Keras LSTM layers expect an input in the shape of a numpy array of 3 dimensions (samples, time steps, features) where samples is the number of training sequences, time steps is the look back window or sequence length and features is the number of features of each sequence at each time step.</b></p>"
   ]
  },
  {
   "cell_type": "code",
   "execution_count": 22,
   "metadata": {},
   "outputs": [],
   "source": [
    "# function to reshape features into (samples, time steps, features) \n",
    "def gen_sequence(id_df, seq_length, seq_cols):\n",
    "        data_matrix = id_df[sensor_cols].values\n",
    "        num_elements = data_matrix.shape[0]\n",
    "        for start, stop in zip(range(0, num_elements-seq_length), range(seq_length, num_elements)):\n",
    "            yield data_matrix[start:stop, :]\n",
    "            \n",
    "#We also create a function to label these sequences.\n",
    "\n",
    "def generate_label(sequence_len, df):\n",
    "    data_matrix = df.values     # For one id I put all the labels in a single matrix.\n",
    "    num_of_elements = data_matrix.shape[0]  \n",
    "    return data_matrix[sequence_len:num_of_elements]"
   ]
  },
  {
   "cell_type": "code",
   "execution_count": 23,
   "metadata": {},
   "outputs": [
    {
     "name": "stdout",
     "output_type": "stream",
     "text": [
      "(165178, 60, 51)\n"
     ]
    }
   ],
   "source": [
    "seq_gen = [list(gen_sequence(df_train_norm_data, seq_len, sensor_cols))]\n",
    "seq_array = np.concatenate(list(seq_gen)).astype(np.float32)\n",
    "print(seq_array.shape)"
   ]
  },
  {
   "cell_type": "code",
   "execution_count": 24,
   "metadata": {},
   "outputs": [],
   "source": [
    "# generate labels\n",
    "label_array = generate_label(seq_len, df_train_norm_label)"
   ]
  },
  {
   "cell_type": "code",
   "execution_count": 25,
   "metadata": {},
   "outputs": [],
   "source": [
    "label_array = label_array.reshape(label_array.shape[0], 1)"
   ]
  },
  {
   "cell_type": "code",
   "execution_count": 26,
   "metadata": {},
   "outputs": [
    {
     "data": {
      "text/plain": [
       "(165178, 1)"
      ]
     },
     "execution_count": 26,
     "metadata": {},
     "output_type": "execute_result"
    }
   ],
   "source": [
    "label_array.shape"
   ]
  },
  {
   "cell_type": "code",
   "execution_count": 27,
   "metadata": {},
   "outputs": [],
   "source": [
    "np.save('seq_array', seq_array)\n",
    "np.save('label_array', label_array)"
   ]
  },
  {
   "cell_type": "markdown",
   "execution_count": null,
   "metadata": {},
   "source": [
    "# LSTM Model"
   ]
  },
  {
   "cell_type": "code",
   "execution_count": 28,
   "metadata": {},
   "outputs": [],
   "source": [
    "# Feature weights\n",
    "number_of_features = seq_array.shape[2]\n",
    "number_outcome = label_array.shape[1]\n",
    "\n",
    "## build the network\n",
    "model_path = 'binary_model.h5'\n",
    "\n",
    "model = Sequential()\n",
    "\n",
    "# LSTM model\n",
    "model.add(LSTM(\n",
    "            input_shape=(seq_len , number_of_features),\n",
    "            units=100,\n",
    "            return_sequences=True))\n",
    "\n",
    "model.add(Dropout(0.2))\n",
    "\n",
    "model.add(LSTM(\n",
    "            units=50,\n",
    "            return_sequences=False))\n",
    "\n",
    "model.add(Dropout(0.2))\n",
    "\n",
    "model.add(Dense(\n",
    "            units=number_outcome,\n",
    "            activation='sigmoid'))"
   ]
  },
  {
   "cell_type": "code",
   "execution_count": 29,
   "metadata": {},
   "outputs": [],
   "source": [
    "## With adam optimizer and a binary crossentropy loss. We will opimize for model accuracy.\n",
    "model.compile(\n",
    "            loss='binary_crossentropy',\n",
    "            optimizer='adam',\n",
    "            metrics=['accuracy'])"
   ]
  },
  {
   "cell_type": "code",
   "execution_count": 30,
   "metadata": {},
   "outputs": [
    {
     "name": "stdout",
     "output_type": "stream",
     "text": [
      "Model: \"sequential\"\n",
      "_________________________________________________________________\n",
      "Layer (type)                 Output Shape              Param #   \n",
      "=================================================================\n",
      "lstm (LSTM)                  (None, 60, 100)           60800     \n",
      "_________________________________________________________________\n",
      "dropout (Dropout)            (None, 60, 100)           0         \n",
      "_________________________________________________________________\n",
      "lstm_1 (LSTM)                (None, 50)                30200     \n",
      "_________________________________________________________________\n",
      "dropout_1 (Dropout)          (None, 50)                0         \n",
      "_________________________________________________________________\n",
      "dense (Dense)                (None, 1)                 51        \n",
      "=================================================================\n",
      "Total params: 91,051\n",
      "Trainable params: 91,051\n",
      "Non-trainable params: 0\n",
      "_________________________________________________________________\n",
      "None\n"
     ]
    }
   ],
   "source": [
    "## Verify the architecture \n",
    "print(model.summary())"
   ]
  },
  {
   "cell_type": "code",
   "execution_count": 31,
   "metadata": {},
   "outputs": [
    {
     "name": "stdout",
     "output_type": "stream",
     "text": [
      "Epoch 1/30\n",
      "744/744 [==============================] - 148s 198ms/step - loss: 0.0496 - accuracy: 0.9906 - val_loss: 0.0074 - val_accuracy: 1.0000\n",
      "Epoch 2/30\n",
      "744/744 [==============================] - 146s 196ms/step - loss: 0.0415 - accuracy: 0.9922 - val_loss: 0.0044 - val_accuracy: 1.0000\n",
      "Epoch 3/30\n",
      "744/744 [==============================] - 145s 195ms/step - loss: 0.0375 - accuracy: 0.9922 - val_loss: 0.0014 - val_accuracy: 1.0000\n",
      "Epoch 4/30\n",
      "744/744 [==============================] - 146s 196ms/step - loss: 0.0316 - accuracy: 0.9930 - val_loss: 2.6344e-04 - val_accuracy: 1.0000\n",
      "Epoch 5/30\n",
      "744/744 [==============================] - 147s 197ms/step - loss: 0.0302 - accuracy: 0.9927 - val_loss: 1.4132e-04 - val_accuracy: 1.0000\n",
      "Epoch 6/30\n",
      "744/744 [==============================] - 145s 195ms/step - loss: 0.0275 - accuracy: 0.9927 - val_loss: 3.6885e-04 - val_accuracy: 1.0000\n",
      "Epoch 7/30\n",
      "744/744 [==============================] - 148s 199ms/step - loss: 0.0264 - accuracy: 0.9931 - val_loss: 0.0011 - val_accuracy: 1.0000\n",
      "Epoch 8/30\n",
      "744/744 [==============================] - 149s 200ms/step - loss: 0.0211 - accuracy: 0.9938 - val_loss: 1.5011e-04 - val_accuracy: 1.0000\n"
     ]
    }
   ],
   "source": [
    "history = model.fit(seq_array,\n",
    "          label_array,\n",
    "          epochs=30,\n",
    "          batch_size=200,\n",
    "          validation_split=0.10,\n",
    "          verbose=1,callbacks=[keras.callbacks.EarlyStopping(monitor='val_loss',#To prevent overfitting\n",
    "                                                             min_delta=0,\n",
    "                                                             patience=5,\n",
    "                                                             verbose=0, \n",
    "                                                             mode='auto')])"
   ]
  },
  {
   "cell_type": "markdown",
   "execution_count": null,
   "metadata": {},
   "source": [
    "# Our Model Performance"
   ]
  },
  {
   "cell_type": "code",
   "execution_count": 32,
   "metadata": {},
   "outputs": [
    {
     "name": "stdout",
     "output_type": "stream",
     "text": [
      "826/826 [==============================] - 65s 78ms/step - loss: 0.0191 - accuracy: 0.9937\n",
      "Training Accurracy: 0.9937219023704529\n"
     ]
    }
   ],
   "source": [
    "# training metrics\n",
    "scores = model.evaluate(seq_array, label_array, verbose=1, batch_size=200)\n",
    "print('Training Accurracy: {}'.format(scores[1]))"
   ]
  },
  {
   "cell_type": "code",
   "execution_count": 33,
   "metadata": {},
   "outputs": [
    {
     "name": "stdout",
     "output_type": "stream",
     "text": [
      "dict_keys(['loss', 'accuracy', 'val_loss', 'val_accuracy'])\n"
     ]
    }
   ],
   "source": [
    "# list all data in history\n",
    "print(history.history.keys())"
   ]
  },
  {
   "cell_type": "code",
   "execution_count": 34,
   "metadata": {},
   "outputs": [
    {
     "name": "stdout",
     "output_type": "stream",
     "text": [
      "276/276 [==============================] - 48s 174ms/step\n",
      "Confusion matrix\n",
      "- x-axis is true labels.\n",
      "- y-axis is predicted labels\n",
      "[[163940     32]\n",
      " [  1005    201]]\n"
     ]
    }
   ],
   "source": [
    "# make predictions and compute confusion matrix\n",
    "y_pred = model.predict_classes(seq_array,verbose=1, batch_size=600)\n",
    "y_true = label_array\n",
    "\n",
    "test_set = pd.DataFrame(y_pred)\n",
    "test_set.to_csv('binary_submit_train.csv', index = None)\n",
    "\n",
    "print('Confusion matrix\\n- x-axis is true labels.\\n- y-axis is predicted labels')\n",
    "cm = confusion_matrix(y_true, y_pred)\n",
    "print(cm)"
   ]
  },
  {
   "cell_type": "code",
   "execution_count": 35,
   "metadata": {},
   "outputs": [],
   "source": [
    "def plot_confusion_matrix(cm, classes,\n",
    "                        normalize=False,\n",
    "                        title='Confusion matrix',\n",
    "                        cmap=plt.cm.Blues):\n",
    "    \n",
    "    \"\"\"\n",
    "    This function prints and plots the confusion matrix.\n",
    "    Normalization can be applied by setting `normalize=True`.\n",
    "    \"\"\"\n",
    "    plt.imshow(cm, interpolation='nearest', cmap=cmap)\n",
    "    plt.title(title)\n",
    "    plt.colorbar()\n",
    "    tick_marks = np.arange(len(classes))\n",
    "    plt.xticks(tick_marks, classes, rotation=45)\n",
    "    plt.yticks(tick_marks, classes)\n",
    "\n",
    "    if normalize:\n",
    "        \n",
    "        cm = cm.astype('float') / cm.sum(axis=1)[:, np.newaxis]\n",
    "        \n",
    "        print(\"Normalized confusion matrix\")\n",
    "    else:\n",
    "        print('Confusion matrix, without normalization')\n",
    "        \n",
    "\n",
    "    print(cm)\n",
    "\n",
    "    thresh = cm.max() / 2.\n",
    "    for i, j in itertools.product(range(cm.shape[0]), range(cm.shape[1])):\n",
    "        \n",
    "        plt.text(j, i, cm[i, j],\n",
    "            horizontalalignment=\"center\",\n",
    "            color=\"white\" if cm[i, j] > thresh else \"black\")\n",
    "\n",
    "    plt.tight_layout()\n",
    "    plt.ylabel('True label')\n",
    "    plt.xlabel('Predicted label')"
   ]
  },
  {
   "cell_type": "code",
   "execution_count": 36,
   "metadata": {},
   "outputs": [
    {
     "name": "stdout",
     "output_type": "stream",
     "text": [
      "Confusion matrix, without normalization\n",
      "[[163940     32]\n",
      " [  1005    201]]\n"
     ]
    },
    {
     "data": {
      "image/png": "[encoded data removed]",
      "text/plain": [
       "<Figure size 432x288 with 2 Axes>"
      ]
     },
     "metadata": {
      "needs_background": "light"
     },
     "output_type": "display_data"
    }
   ],
   "source": [
    "cm_plot_labels = ['Normal','Broken']\n",
    "plot_confusion_matrix(cm=cm, classes=cm_plot_labels, title='Confusion Matrix')"
   ]
  },
  {
   "cell_type": "code",
   "execution_count": 37,
   "metadata": {},
   "outputs": [
    {
     "name": "stdout",
     "output_type": "stream",
     "text": [
      "Training Precision:  0.8626609442060086 \n",
      " Training Recall:  0.16666666666666666 \n",
      " Training F1 Score: 0.27936066712995133\n",
      "0.4700654817586529\n"
     ]
    }
   ],
   "source": [
    "# compute precision and recall\n",
    "precision = precision_score(y_true, y_pred)\n",
    "recall = recall_score(y_true, y_pred)\n",
    "f1 = 2 * (precision * recall) / (precision + recall)\n",
    "print( 'Training Precision: ', precision, '\\n', 'Training Recall: ', recall, '\\n', 'Training F1 Score:', f1)\n",
    "print(fbeta_score(y_true, y_pred,beta=0.5))"
   ]
  },
  {
   "cell_type": "markdown",
   "execution_count": null,
   "metadata": {},
   "source": [
    "# To be continued "
   ]
  },
  {
   "cell_type": "markdown",
   "execution_count": null,
   "metadata": {},
   "source": [
    "# Grid LSTM Model "
   ]
  }
 ],
 "metadata": {
  "kernelspec": {
   "display_name": "Python 3",
   "language": "python",
   "name": "python3"
  },
  "language_info": {
   "codemirror_mode": {
    "name": "ipython",
    "version": 3
   },
   "file_extension": ".py",
   "mimetype": "text/x-python",
   "name": "python",
   "nbconvert_exporter": "python",
   "pygments_lexer": "ipython3",
   "version": "3.7.6"
  }
 },
 "nbformat": 4,
 "nbformat_minor": 4
}
